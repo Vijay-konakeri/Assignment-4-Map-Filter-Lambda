{
 "cells": [
  {
   "cell_type": "markdown",
   "id": "8aaa59c5-31ec-4165-a844-70e1cf1f9aaf",
   "metadata": {},
   "source": [
    "Write a Python program to square the elements of a list using map() function."
   ]
  },
  {
   "cell_type": "code",
   "execution_count": 1,
   "id": "0889f42d-865f-492a-bcaf-12060bee4065",
   "metadata": {},
   "outputs": [
    {
     "name": "stdout",
     "output_type": "stream",
     "text": [
      "[16, 25, 4, 81]\n"
     ]
    }
   ],
   "source": [
    "# Define the list of integers\n",
    "numbers = [4, 5, 2, 9]\n",
    "\n",
    "# Use the map function and a lambda function to square each number in the list\n",
    "squared = list(map(lambda x: x ** 2, numbers))\n",
    "\n",
    "# Print the result\n",
    "print(squared)\n"
   ]
  }
 ],
 "metadata": {
  "kernelspec": {
   "display_name": "Python 3 (ipykernel)",
   "language": "python",
   "name": "python3"
  },
  "language_info": {
   "codemirror_mode": {
    "name": "ipython",
    "version": 3
   },
   "file_extension": ".py",
   "mimetype": "text/x-python",
   "name": "python",
   "nbconvert_exporter": "python",
   "pygments_lexer": "ipython3",
   "version": "3.11.1"
  }
 },
 "nbformat": 4,
 "nbformat_minor": 5
}
