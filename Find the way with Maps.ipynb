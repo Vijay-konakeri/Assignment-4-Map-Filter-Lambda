{
 "cells": [
  {
   "cell_type": "markdown",
   "id": "9d70dc10-f3db-4682-aa9c-afe24cd72ac5",
   "metadata": {},
   "source": [
    "Write a Python program to triple all numbers of a given list of integers. Use Python map."
   ]
  },
  {
   "cell_type": "code",
   "execution_count": 1,
   "id": "a5a8fc87-cd10-4dc2-8003-9feea45a2be1",
   "metadata": {},
   "outputs": [
    {
     "name": "stdout",
     "output_type": "stream",
     "text": [
      "[3, 6, 9, 12, 15, 18, 21]\n"
     ]
    }
   ],
   "source": [
    "# Define the list of integers\n",
    "numbers = [1, 2, 3, 4, 5, 6, 7]\n",
    "\n",
    "# Use the map function and a lambda function to triple each number in the list\n",
    "tripled = list(map(lambda x: x * 3, numbers))\n",
    "\n",
    "# Print the result\n",
    "print(tripled)\n"
   ]
  }
 ],
 "metadata": {
  "kernelspec": {
   "display_name": "Python 3 (ipykernel)",
   "language": "python",
   "name": "python3"
  },
  "language_info": {
   "codemirror_mode": {
    "name": "ipython",
    "version": 3
   },
   "file_extension": ".py",
   "mimetype": "text/x-python",
   "name": "python",
   "nbconvert_exporter": "python",
   "pygments_lexer": "ipython3",
   "version": "3.11.1"
  }
 },
 "nbformat": 4,
 "nbformat_minor": 5
}
